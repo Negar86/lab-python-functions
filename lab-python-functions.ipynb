{
 "cells": [
  {
   "cell_type": "markdown",
   "id": "25d7736c-ba17-4aff-b6bb-66eba20fbf4e",
   "metadata": {},
   "source": [
    "# Lab | Functions"
   ]
  },
  {
   "cell_type": "markdown",
   "id": "0c581062-8967-4d93-b06e-62833222f930",
   "metadata": {
    "tags": []
   },
   "source": [
    "## Exercise: Managing Customer Orders with Functions\n",
    "\n",
    "In the previous exercise, you improved the code for managing customer orders by using loops and flow control. Now, let's take it a step further and refactor the code by introducing functions.\n",
    "\n",
    "Follow the steps below to complete the exercise:\n",
    "\n",
    "1. Define a function named `initialize_inventory` that takes `products` as a parameter. Inside the function, implement the code for initializing the inventory dictionary using a loop and user input.\n",
    "\n",
    "2. Define a function named `get_customer_orders` that takes no parameters. Inside the function, implement the code for prompting the user to enter the product names using a loop. The function should return the `customer_orders` set.\n",
    "\n",
    "3. Define a function named `update_inventory` that takes `customer_orders` and `inventory` as parameters. Inside the function, implement the code for updating the inventory dictionary based on the customer orders.\n",
    "\n",
    "4. Define a function named `calculate_order_statistics` that takes `customer_orders` and `products` as parameters. Inside the function, implement the code for calculating the order statistics (total products ordered, and percentage of unique products ordered). The function should return these values.\n",
    "\n",
    "5. Define a function named `print_order_statistics` that takes `order_statistics` as a parameter. Inside the function, implement the code for printing the order statistics.\n",
    "\n",
    "6. Define a function named `print_updated_inventory` that takes `inventory` as a parameter. Inside the function, implement the code for printing the updated inventory.\n",
    "\n",
    "7. Call the functions in the appropriate sequence to execute the program and manage customer orders.\n",
    "\n",
    "Hints for functions:\n",
    "\n",
    "- Consider the input parameters required for each function and their return values.\n",
    "- Utilize function parameters and return values to transfer data between functions.\n",
    "- Test your functions individually to ensure they work correctly.\n",
    "\n",
    "\n"
   ]
  },
  {
   "cell_type": "code",
   "execution_count": 1,
   "id": "55c3d2bf",
   "metadata": {},
   "outputs": [
    {
     "name": "stdout",
     "output_type": "stream",
     "text": [
      "Input the quantity for t-shirt: 20\n",
      "Input the quantity for mug: 30\n",
      "Input the quantity for hat: 40\n",
      "Input the quantity for book: 50\n",
      "Input the quantity for keychain: 60\n"
     ]
    }
   ],
   "source": [
    "products = ['t-shirt', 'mug', 'hat', 'book', 'keychain']\n",
    "\n",
    "def initialize_inventory(products):    \n",
    "    inventory = {}\n",
    "    for i in products: \n",
    "        inventory[i] = int(input(f\"Input the quantity for {i}: \"))\n",
    "    return inventory \n",
    "\n",
    "inventory = initialize_inventory(products)"
   ]
  },
  {
   "cell_type": "code",
   "execution_count": 2,
   "id": "c90a451f",
   "metadata": {},
   "outputs": [
    {
     "name": "stdout",
     "output_type": "stream",
     "text": [
      "Enter name of product you want to order ['t-shirt', 'mug', 'hat', 'book', 'keychain']: mug\n",
      "Do you want to continue (YES/NO): no\n"
     ]
    }
   ],
   "source": [
    "def get_customer_orders():\n",
    "    customer_orders = set()\n",
    "    \n",
    "    another_order = True\n",
    "    while another_order == True:\n",
    "        order = input(f\"Enter name of product you want to order {products}: \")\n",
    "        customer_orders.add(order)\n",
    "        req = input(\"Do you want to continue (YES/NO): \").lower()\n",
    "        if req == \"no\":\n",
    "            another_order = False\n",
    "            return customer_orders\n",
    "            \n",
    "\n",
    "customer_orders = get_customer_orders()"
   ]
  },
  {
   "cell_type": "code",
   "execution_count": 4,
   "id": "9fbe85ee",
   "metadata": {},
   "outputs": [
    {
     "name": "stdout",
     "output_type": "stream",
     "text": [
      "updated inventory is: {'t-shirt': 20, 'mug': 29, 'hat': 40, 'book': 50, 'keychain': 60}\n"
     ]
    }
   ],
   "source": [
    "def updated_inventory(customer_orders, inventory):\n",
    "    updated_inventory = {}\n",
    "    for product,quantity in inventory.items(): \n",
    "        if product in customer_orders:\n",
    "            updated_inventory[product] = quantity -1\n",
    "        else:\n",
    "            updated_inventory[product] = quantity           \n",
    "            \n",
    "    return updated_inventory\n",
    "\n",
    "inventory = updated_inventory(customer_orders, inventory)\n",
    "print(f\"updated inventory is: {inventory}\")       \n"
   ]
  },
  {
   "cell_type": "code",
   "execution_count": 5,
   "id": "d49e4536",
   "metadata": {},
   "outputs": [
    {
     "data": {
      "text/plain": [
       "(1, 20.0)"
      ]
     },
     "execution_count": 5,
     "metadata": {},
     "output_type": "execute_result"
    }
   ],
   "source": [
    "def calculate_order_statistics(customer_orders, products):\n",
    "    \n",
    "    total_products_ordered = len(customer_orders)\n",
    "\n",
    "    total_products = len(products)\n",
    "\n",
    "    percentage_ordered = total_products_ordered / total_products *100\n",
    "    return total_products_ordered, percentage_ordered\n",
    "\n",
    "calculate_order_statistics(customer_orders, products)"
   ]
  },
  {
   "cell_type": "code",
   "execution_count": 6,
   "id": "a7f72409",
   "metadata": {},
   "outputs": [
    {
     "name": "stdout",
     "output_type": "stream",
     "text": [
      "Order Statistic:\n",
      "Total products ordered: 1\n",
      "Percentage: 20.0%\n"
     ]
    }
   ],
   "source": [
    "order_statistics = calculate_order_statistics(customer_orders, products)\n",
    "def print_order_statistics (order_statistics):\n",
    "    print(\"Order Statistic:\")\n",
    "    print(f\"Total products ordered: {order_statistics[0]}\")\n",
    "    print(f\"Percentage: {order_statistics[1]}%\")\n",
    "\n",
    "print_order_statistics (order_statistics)"
   ]
  },
  {
   "cell_type": "code",
   "execution_count": 7,
   "id": "5512a383",
   "metadata": {},
   "outputs": [
    {
     "name": "stdout",
     "output_type": "stream",
     "text": [
      "Updated inventory is: {'t-shirt': 20, 'mug': 29, 'hat': 40, 'book': 50, 'keychain': 60}\n"
     ]
    }
   ],
   "source": [
    "def print_updated_inventory (inventory):\n",
    "    print(f\"Updated inventory is: {inventory}\")\n",
    "    \n",
    "print_updated_inventory (inventory)"
   ]
  },
  {
   "cell_type": "code",
   "execution_count": 8,
   "id": "624a682a",
   "metadata": {},
   "outputs": [
    {
     "name": "stdout",
     "output_type": "stream",
     "text": [
      "Input the quantity for t-shirt: 50\n",
      "Input the quantity for mug: 60\n",
      "Input the quantity for hat: 70\n",
      "Input the quantity for book: 90\n",
      "Input the quantity for keychain: 80\n",
      "Enter name of product you want to order ['t-shirt', 'mug', 'hat', 'book', 'keychain']: book\n",
      "Do you want to continue (YES/NO): no\n",
      "updated inventory is: {'t-shirt': 20, 'mug': 28, 'hat': 40, 'book': 50, 'keychain': 60}\n",
      "\n",
      "Order Statistic:\n",
      "Total products ordered: 1\n",
      "Percentage: 20.0%\n",
      "\n",
      "Updated inventory is: {'t-shirt': 20, 'mug': 28, 'hat': 40, 'book': 50, 'keychain': 60}\n"
     ]
    }
   ],
   "source": [
    "products = ['t-shirt', 'mug', 'hat', 'book', 'keychain']\n",
    "initialize_inventory(products)\n",
    "get_customer_orders()\n",
    "inventory = updated_inventory(customer_orders, inventory)\n",
    "print(f\"updated inventory is: {inventory}\")       \n",
    "calculate_order_statistics(customer_orders, products)\n",
    "print()\n",
    "print_order_statistics (order_statistics)\n",
    "print()\n",
    "print_updated_inventory (inventory)"
   ]
  },
  {
   "cell_type": "code",
   "execution_count": null,
   "id": "35dc7aef",
   "metadata": {},
   "outputs": [],
   "source": []
  }
 ],
 "metadata": {
  "kernelspec": {
   "display_name": "Python 3 (ipykernel)",
   "language": "python",
   "name": "python3"
  },
  "language_info": {
   "codemirror_mode": {
    "name": "ipython",
    "version": 3
   },
   "file_extension": ".py",
   "mimetype": "text/x-python",
   "name": "python",
   "nbconvert_exporter": "python",
   "pygments_lexer": "ipython3",
   "version": "3.11.5"
  }
 },
 "nbformat": 4,
 "nbformat_minor": 5
}
