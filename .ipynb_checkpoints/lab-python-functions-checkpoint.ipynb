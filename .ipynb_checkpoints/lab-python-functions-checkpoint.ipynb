{
 "cells": [
  {
   "cell_type": "markdown",
   "id": "25d7736c-ba17-4aff-b6bb-66eba20fbf4e",
   "metadata": {},
   "source": [
    "# Lab | Functions"
   ]
  },
  {
   "cell_type": "markdown",
   "id": "0c581062-8967-4d93-b06e-62833222f930",
   "metadata": {
    "tags": []
   },
   "source": [
    "## Exercise: Managing Customer Orders with Functions\n",
    "\n",
    "In the previous exercise, you improved the code for managing customer orders by using loops and flow control. Now, let's take it a step further and refactor the code by introducing functions.\n",
    "\n",
    "Follow the steps below to complete the exercise:\n",
    "\n",
    "1. Define a function named `initialize_inventory` that takes `products` as a parameter. Inside the function, implement the code for initializing the inventory dictionary using a loop and user input.\n",
    "\n",
    "2. Define a function named `get_customer_orders` that takes no parameters. Inside the function, implement the code for prompting the user to enter the product names using a loop. The function should return the `customer_orders` set.\n",
    "\n",
    "3. Define a function named `update_inventory` that takes `customer_orders` and `inventory` as parameters. Inside the function, implement the code for updating the inventory dictionary based on the customer orders.\n",
    "\n",
    "4. Define a function named `calculate_order_statistics` that takes `customer_orders` and `products` as parameters. Inside the function, implement the code for calculating the order statistics (total products ordered, and percentage of unique products ordered). The function should return these values.\n",
    "\n",
    "5. Define a function named `print_order_statistics` that takes `order_statistics` as a parameter. Inside the function, implement the code for printing the order statistics.\n",
    "\n",
    "6. Define a function named `print_updated_inventory` that takes `inventory` as a parameter. Inside the function, implement the code for printing the updated inventory.\n",
    "\n",
    "7. Call the functions in the appropriate sequence to execute the program and manage customer orders.\n",
    "\n",
    "Hints for functions:\n",
    "\n",
    "- Consider the input parameters required for each function and their return values.\n",
    "- Utilize function parameters and return values to transfer data between functions.\n",
    "- Test your functions individually to ensure they work correctly.\n",
    "\n",
    "\n"
   ]
  },
  {
   "cell_type": "code",
   "execution_count": 1,
   "id": "55c3d2bf",
   "metadata": {},
   "outputs": [],
   "source": [
    "def initialize_inventory(products):    \n",
    "    inventory = {}\n",
    "    for i in products: \n",
    "        inventory[i] = int(input(f\"Enter quantity of {i}: \"))\n",
    "    return inventory "
   ]
  },
  {
   "cell_type": "code",
   "execution_count": 2,
   "id": "c90a451f",
   "metadata": {},
   "outputs": [],
   "source": [
    "def get_customer_orders():\n",
    "    customer_orders = set()\n",
    "    correct = True\n",
    "    while correct == True:\n",
    "        order = input(f\"Enter name of product you want to order \\n{products}: \")\n",
    "        customer_orders.add(order)\n",
    "        another_order = input(\"Do you want to add another product(YES/NO): \").upper()\n",
    "        if another_order == \"NO\":\n",
    "            print(f\"Your order has been placed successfully:\\n{customer_orders}\")\n",
    "            correct = False\n",
    "            \n",
    "    return customer_orders"
   ]
  },
  {
   "cell_type": "code",
   "execution_count": 3,
   "id": "9fbe85ee",
   "metadata": {},
   "outputs": [],
   "source": [
    "def updated_inventory(customer_orders, inventory): \n",
    "    for i in customer_orders:\n",
    "        inventory[i] -= 1\n",
    "        \n",
    "    return inventory "
   ]
  },
  {
   "cell_type": "code",
   "execution_count": 4,
   "id": "d49e4536",
   "metadata": {},
   "outputs": [],
   "source": [
    "def calculate_order_statistics(customer_orders, products):   \n",
    "    total_products_ordered = len(customer_orders)\n",
    "    total_products = len(products)\n",
    "    percentage_ordered = round (total_products_ordered / total_products *100,2)\n",
    "    order_statistics = (total_products_ordered,percentage_ordered)\n",
    "    \n",
    "    return order_statistics"
   ]
  },
  {
   "cell_type": "code",
   "execution_count": 5,
   "id": "a7f72409",
   "metadata": {},
   "outputs": [],
   "source": [
    "def print_order_statistics (order_statistics):\n",
    "    print(\"Order Statistic:\")\n",
    "    print(f\"Total products ordered: {order_statistics[0]}\")\n",
    "    print(f\"Percentage: {order_statistics[1]}%\")\n"
   ]
  },
  {
   "cell_type": "code",
   "execution_count": 6,
   "id": "5512a383",
   "metadata": {},
   "outputs": [],
   "source": [
    "def print_updated_inventory (invenroy):\n",
    "    print(f\"Updated inventory is: {inventory}\")"
   ]
  },
  {
   "cell_type": "code",
   "execution_count": 7,
   "id": "624a682a",
   "metadata": {
    "scrolled": true
   },
   "outputs": [
    {
     "name": "stdout",
     "output_type": "stream",
     "text": [
      "Enter quantity of t-shirt: 40\n",
      "Enter quantity of mug: 50\n",
      "Enter quantity of hat: 60\n",
      "Enter quantity of book: 70\n",
      "Enter quantity of keychain: 80\n",
      "\n",
      "Enter name of product you want to order \n",
      "['t-shirt', 'mug', 'hat', 'book', 'keychain']: mug\n",
      "Do you want to add another product(YES/NO): yes\n",
      "Enter name of product you want to order \n",
      "['t-shirt', 'mug', 'hat', 'book', 'keychain']: book\n",
      "Do you want to add another product(YES/NO): no\n",
      "Your order has been placed successfully:\n",
      "{'book', 'mug'}\n",
      "\n",
      "Order Statistic:\n",
      "Total products ordered: 2\n",
      "Percentage: 40.0%\n",
      "\n",
      "Updated inventory is: {'t-shirt': 40, 'mug': 49, 'hat': 60, 'book': 69, 'keychain': 80}\n"
     ]
    }
   ],
   "source": [
    "products = ['t-shirt', 'mug', 'hat', 'book', 'keychain']\n",
    "inventory = initialize_inventory(products)\n",
    "print()\n",
    "customer_orders = get_customer_orders()\n",
    "print()\n",
    "inventory = updated_inventory(customer_orders, inventory)\n",
    "order_statistics = calculate_order_statistics(customer_orders, products)\n",
    "print_order_statistics (order_statistics)\n",
    "print()\n",
    "print_updated_inventory (inventory)"
   ]
  }
 ],
 "metadata": {
  "kernelspec": {
   "display_name": "Python 3 (ipykernel)",
   "language": "python",
   "name": "python3"
  },
  "language_info": {
   "codemirror_mode": {
    "name": "ipython",
    "version": 3
   },
   "file_extension": ".py",
   "mimetype": "text/x-python",
   "name": "python",
   "nbconvert_exporter": "python",
   "pygments_lexer": "ipython3",
   "version": "3.11.5"
  }
 },
 "nbformat": 4,
 "nbformat_minor": 5
}
