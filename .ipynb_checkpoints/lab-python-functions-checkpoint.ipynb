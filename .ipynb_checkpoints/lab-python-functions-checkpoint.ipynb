{
 "cells": [
  {
   "cell_type": "markdown",
   "id": "25d7736c-ba17-4aff-b6bb-66eba20fbf4e",
   "metadata": {},
   "source": [
    "# Lab | Functions"
   ]
  },
  {
   "cell_type": "markdown",
   "id": "0c581062-8967-4d93-b06e-62833222f930",
   "metadata": {
    "tags": []
   },
   "source": [
    "## Exercise: Managing Customer Orders with Functions\n",
    "\n",
    "In the previous exercise, you improved the code for managing customer orders by using loops and flow control. Now, let's take it a step further and refactor the code by introducing functions.\n",
    "\n",
    "Follow the steps below to complete the exercise:\n",
    "\n",
    "1. Define a function named `initialize_inventory` that takes `products` as a parameter. Inside the function, implement the code for initializing the inventory dictionary using a loop and user input.\n",
    "\n",
    "2. Define a function named `get_customer_orders` that takes no parameters. Inside the function, implement the code for prompting the user to enter the product names using a loop. The function should return the `customer_orders` set.\n",
    "\n",
    "3. Define a function named `update_inventory` that takes `customer_orders` and `inventory` as parameters. Inside the function, implement the code for updating the inventory dictionary based on the customer orders.\n",
    "\n",
    "4. Define a function named `calculate_order_statistics` that takes `customer_orders` and `products` as parameters. Inside the function, implement the code for calculating the order statistics (total products ordered, and percentage of unique products ordered). The function should return these values.\n",
    "\n",
    "5. Define a function named `print_order_statistics` that takes `order_statistics` as a parameter. Inside the function, implement the code for printing the order statistics.\n",
    "\n",
    "6. Define a function named `print_updated_inventory` that takes `inventory` as a parameter. Inside the function, implement the code for printing the updated inventory.\n",
    "\n",
    "7. Call the functions in the appropriate sequence to execute the program and manage customer orders.\n",
    "\n",
    "Hints for functions:\n",
    "\n",
    "- Consider the input parameters required for each function and their return values.\n",
    "- Utilize function parameters and return values to transfer data between functions.\n",
    "- Test your functions individually to ensure they work correctly.\n",
    "\n",
    "\n"
   ]
  },
  {
   "cell_type": "code",
   "execution_count": 1,
   "id": "55c3d2bf",
   "metadata": {},
   "outputs": [
    {
     "name": "stdout",
     "output_type": "stream",
     "text": [
      "Input the quantity for t-shirt:65\n",
      "Input the quantity for mug:92\n",
      "Input the quantity for hat:43\n",
      "Input the quantity for book:50\n",
      "Input the quantity for keychain:76\n"
     ]
    },
    {
     "data": {
      "text/plain": [
       "{'t-shirt': 65, 'mug': 92, 'hat': 43, 'book': 50, 'keychain': 76}"
      ]
     },
     "execution_count": 1,
     "metadata": {},
     "output_type": "execute_result"
    }
   ],
   "source": [
    "inventory = {}\n",
    "def initialize_inventory(products):\n",
    "    \n",
    "    \n",
    "    for i in products:\n",
    "        product_qu = int(input(f\"Input the quantity for {i}:\"))\n",
    "        inventory[i] = product_qu\n",
    "    return inventory\n",
    "\n",
    "products = ['t-shirt', 'mug', 'hat', 'book', 'keychain']\n",
    "initialize_inventory(products)"
   ]
  },
  {
   "cell_type": "code",
   "execution_count": 2,
   "id": "c90a451f",
   "metadata": {},
   "outputs": [
    {
     "name": "stdout",
     "output_type": "stream",
     "text": [
      "Enter name of product you want to order('t-shirt', 'mug', 'hat', 'book', 'keychain'): mug\n",
      "Do you want to continue (YES/NO): yes\n",
      "Enter name of product you want to order('t-shirt', 'mug', 'hat', 'book', 'keychain'): book\n",
      "Do you want to continue (YES/NO): no\n"
     ]
    },
    {
     "data": {
      "text/plain": [
       "{'book', 'mug'}"
      ]
     },
     "execution_count": 2,
     "metadata": {},
     "output_type": "execute_result"
    }
   ],
   "source": [
    "customer_orders = set()\n",
    "def get_customer_orders():\n",
    "    another_order = True\n",
    "    while another_order == True:\n",
    "        order = input(\"Enter name of product you want to order('t-shirt', 'mug', 'hat', 'book', 'keychain'): \")\n",
    "        customer_orders.add(order)\n",
    "        req = input(\"Do you want to continue (YES/NO): \").lower()\n",
    "        if req == \"no\":\n",
    "            another_order = False\n",
    "            return customer_orders\n",
    "            \n",
    "\n",
    "get_customer_orders()"
   ]
  },
  {
   "cell_type": "code",
   "execution_count": 3,
   "id": "9fbe85ee",
   "metadata": {},
   "outputs": [
    {
     "data": {
      "text/plain": [
       "{'t-shirt': 65, 'mug': 91, 'hat': 43, 'book': 49, 'keychain': 76}"
      ]
     },
     "execution_count": 3,
     "metadata": {},
     "output_type": "execute_result"
    }
   ],
   "source": [
    "updated_inventory = {}\n",
    "def update_inventory(customer_orders, inventory):    \n",
    "    for k, v in inventory.items():\n",
    "        \n",
    "        if k in customer_orders:\n",
    "            updated_inventory[k] = inventory[k] - 1\n",
    "        else:\n",
    "            deducted_quantity = int(inventory[k])\n",
    "            updated_inventory[k] = deducted_quantity\n",
    "            \n",
    "    return updated_inventory\n",
    "\n",
    "update_inventory(customer_orders, inventory)"
   ]
  },
  {
   "cell_type": "code",
   "execution_count": 4,
   "id": "d49e4536",
   "metadata": {},
   "outputs": [
    {
     "data": {
      "text/plain": [
       "(2, 40.0)"
      ]
     },
     "execution_count": 4,
     "metadata": {},
     "output_type": "execute_result"
    }
   ],
   "source": [
    "def calculate_order_statistics(customer_orders, products):\n",
    "    \n",
    "    total_products_ordered = len(customer_orders)\n",
    "\n",
    "    total_products = len(products)\n",
    "\n",
    "    percentage_ordered = total_products_ordered / total_products *100\n",
    "    return total_products_ordered, percentage_ordered\n",
    "\n",
    "calculate_order_statistics(customer_orders, products)"
   ]
  },
  {
   "cell_type": "code",
   "execution_count": 5,
   "id": "a7f72409",
   "metadata": {},
   "outputs": [
    {
     "name": "stdout",
     "output_type": "stream",
     "text": [
      "Order Statistic:\n",
      "Total products ordered: 2\n",
      "Percentage: 40.0%\n"
     ]
    }
   ],
   "source": [
    "order_statistics = calculate_order_statistics(customer_orders, products)\n",
    "def print_order_statistics (order_statistics):\n",
    "    print(\"Order Statistic:\")\n",
    "    print(f\"Total products ordered: {order_statistics[0]}\")\n",
    "    print(f\"Percentage: {order_statistics[1]}%\")\n",
    "\n",
    "print_order_statistics (order_statistics)"
   ]
  },
  {
   "cell_type": "code",
   "execution_count": 6,
   "id": "5512a383",
   "metadata": {},
   "outputs": [
    {
     "name": "stdout",
     "output_type": "stream",
     "text": [
      "Updated inventory is: {'t-shirt': 65, 'mug': 91, 'hat': 43, 'book': 49, 'keychain': 76}\n"
     ]
    }
   ],
   "source": [
    "def print_updated_inventory (inventory):\n",
    "    inventory = updated_inventory\n",
    "    print(f\"Updated inventory is: {inventory}\")\n",
    "    \n",
    "print_updated_inventory (inventory)"
   ]
  },
  {
   "cell_type": "code",
   "execution_count": 7,
   "id": "624a682a",
   "metadata": {},
   "outputs": [
    {
     "name": "stdout",
     "output_type": "stream",
     "text": [
      "Input the quantity for t-shirt:60\n",
      "Input the quantity for mug:45\n",
      "Input the quantity for hat:38\n",
      "Input the quantity for book:30\n",
      "Input the quantity for keychain:82\n",
      "Enter name of product you want to order('t-shirt', 'mug', 'hat', 'book', 'keychain'): mug\n",
      "Do you want to continue (YES/NO): yes\n",
      "Enter name of product you want to order('t-shirt', 'mug', 'hat', 'book', 'keychain'): book\n",
      "Do you want to continue (YES/NO): no\n",
      "\n",
      "Order Statistic:\n",
      "Total products ordered: 2\n",
      "Percentage: 40.0%\n",
      "\n",
      "Updated inventory is: {'t-shirt': 60, 'mug': 44, 'hat': 38, 'book': 29, 'keychain': 82}\n"
     ]
    }
   ],
   "source": [
    "products = ['t-shirt', 'mug', 'hat', 'book', 'keychain']\n",
    "initialize_inventory(products)\n",
    "get_customer_orders()\n",
    "update_inventory(customer_orders, inventory)\n",
    "calculate_order_statistics(customer_orders, products)\n",
    "print()\n",
    "print_order_statistics (order_statistics)\n",
    "print()\n",
    "print_updated_inventory (inventory)"
   ]
  }
 ],
 "metadata": {
  "kernelspec": {
   "display_name": "Python 3 (ipykernel)",
   "language": "python",
   "name": "python3"
  },
  "language_info": {
   "codemirror_mode": {
    "name": "ipython",
    "version": 3
   },
   "file_extension": ".py",
   "mimetype": "text/x-python",
   "name": "python",
   "nbconvert_exporter": "python",
   "pygments_lexer": "ipython3",
   "version": "3.11.5"
  }
 },
 "nbformat": 4,
 "nbformat_minor": 5
}
